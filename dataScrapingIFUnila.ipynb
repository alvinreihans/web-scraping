{
 "cells": [
  {
   "cell_type": "markdown",
   "metadata": {},
   "source": [
    "## Tugas Scraping data\n",
    "Alvin Reihansyah Makarim\n",
    "\n",
    "2115061083\n",
    "\n",
    "Big Data 2024"
   ]
  },
  {
   "cell_type": "markdown",
   "metadata": {},
   "source": [
    "#### Menginstall library"
   ]
  },
  {
   "cell_type": "code",
   "execution_count": null,
   "metadata": {},
   "outputs": [],
   "source": [
    "%pip install beautifulsoup4\n",
    "%pip install requests\n",
    "%pip install pandas"
   ]
  },
  {
   "cell_type": "markdown",
   "metadata": {},
   "source": [
    "#### Mengimport library"
   ]
  },
  {
   "cell_type": "code",
   "execution_count": 62,
   "metadata": {},
   "outputs": [],
   "source": [
    "from bs4 import BeautifulSoup\n",
    "import requests\n",
    "import pandas as pd\n",
    "import json"
   ]
  },
  {
   "cell_type": "markdown",
   "metadata": {},
   "source": [
    "#### Mengambil halaman Kemahasiswaan if.unila.ac.id"
   ]
  },
  {
   "cell_type": "code",
   "execution_count": null,
   "metadata": {},
   "outputs": [],
   "source": [
    "url = 'https://if.unila.ac.id/category/kemahasiswaan/'\n",
    "\n",
    "\n",
    "try:\n",
    "  response = requests.get(url)\n",
    "  soup = BeautifulSoup(response.text, 'html.parser')\n",
    "  articles = soup.findAll('article', class_='type-post')\n",
    "  print(articles)\n",
    "\n",
    "except Exception as e:\n",
    "  print(e)"
   ]
  },
  {
   "cell_type": "markdown",
   "metadata": {},
   "source": [
    "#### Mengambil data judul artikel"
   ]
  },
  {
   "cell_type": "code",
   "execution_count": 64,
   "metadata": {},
   "outputs": [
    {
     "name": "stdout",
     "output_type": "stream",
     "text": [
      "['Mahasiswa Teknik Informatika Berhasil Menjadi Finalis Muli Mekhanai Pringsewu', 'Mahasiswa Teknik Informatika Unila Berhasil Lolos Seleksi Beasiswa Bank Indonesia periode tahun 2024', 'Aldo Wijaya Mahasiswa Teknik Informatika Sabet Lulusan Terbaik I Tingkat Universitas', 'Mahasiswa TI Lolos Seleksi Nasional Program Magang Studi Independen Bersertifikat (MSIB) Kemendikbudristek 2024', 'Pelatihan Flutter & Laravel Program Studi Teknik Informatika Unila', 'Arsip Mahasiswa Kompre Ganjil 2023/2024', 'Seminar Komprehensif Fiona Yovita Syafri TI 2019', 'Mahasiswa Teknik Informatika Mengikuti Seminar Internasional The 8th International Conference on Science, Technology, and Interdisciplinary Research (IC-Star)', 'Mahasiswa S1 Teknik Informatika Menjadi Kandidat Fakultas Teknik Pada Pilmapres Universitas Lampung Tahun 2022']\n"
     ]
    }
   ],
   "source": [
    "title_columns = []\n",
    "\n",
    "for e in articles:\n",
    "  title_element = e.find('h2', class_='entry-title')\n",
    "  if title_element:\n",
    "    title_columns.append(title_element.text.strip())\n",
    "\n",
    "print(title_columns)"
   ]
  },
  {
   "cell_type": "markdown",
   "metadata": {},
   "source": [
    "#### Mengambil data datetime artikel"
   ]
  },
  {
   "cell_type": "code",
   "execution_count": 65,
   "metadata": {},
   "outputs": [
    {
     "name": "stdout",
     "output_type": "stream",
     "text": [
      "[Timestamp('2024-05-07 13:32:08'), Timestamp('2024-04-18 06:15:23'), Timestamp('2024-03-11 08:36:29'), Timestamp('2024-02-22 21:08:11'), Timestamp('2024-02-29 08:18:40'), Timestamp('2024-02-22 21:33:48'), Timestamp('2023-05-12 13:23:18'), Timestamp('2022-09-28 10:32:09'), Timestamp('2022-06-24 16:27:33')]\n"
     ]
    }
   ],
   "source": [
    "date_columns = []\n",
    "\n",
    "for e in articles:\n",
    "  date_element = e.find('time', class_='updated')\n",
    "  if date_element:\n",
    "    datetime_value = pd.to_datetime(date_element['datetime']).tz_localize(None)\n",
    "    date_columns.append(datetime_value)\n",
    "\n",
    "print(date_columns)"
   ]
  },
  {
   "cell_type": "markdown",
   "metadata": {},
   "source": [
    "#### Mengambil data penulis artikel"
   ]
  },
  {
   "cell_type": "code",
   "execution_count": 66,
   "metadata": {},
   "outputs": [
    {
     "name": "stdout",
     "output_type": "stream",
     "text": [
      "['admin', 'admin', 'admin', 'admin', 'admin', 'Redaksi Informatika', 'Teknik Informatika', 'admin', 'admin']\n"
     ]
    }
   ],
   "source": [
    "author_columns = []\n",
    "\n",
    "for e in articles:\n",
    "  author_element = e.find('a', class_='url fn n')\n",
    "  if author_element:\n",
    "    author_columns.append(author_element.text.strip())\n",
    "\n",
    "print(author_columns)"
   ]
  },
  {
   "cell_type": "markdown",
   "metadata": {},
   "source": [
    "#### Mengambil data jumlah komentar pada artikel"
   ]
  },
  {
   "cell_type": "code",
   "execution_count": 67,
   "metadata": {},
   "outputs": [
    {
     "name": "stdout",
     "output_type": "stream",
     "text": [
      "['0', '0', '0', '0', '0', '0', '0', '0', '0']\n"
     ]
    }
   ],
   "source": [
    "comment_columns = []\n",
    "\n",
    "for e in articles:\n",
    "    comment_element = e.find('span', class_='comments')\n",
    "    if comment_element:\n",
    "        comment_text = comment_element.text.strip()\n",
    "        # Split the string and get the first part (the number)\n",
    "        comment_number = comment_text.split()[0]\n",
    "        comment_columns.append(comment_number)\n",
    "\n",
    "print(comment_columns)"
   ]
  },
  {
   "cell_type": "markdown",
   "metadata": {},
   "source": [
    "#### Mengambil data headline artikel"
   ]
  },
  {
   "cell_type": "code",
   "execution_count": 68,
   "metadata": {},
   "outputs": [
    {
     "name": "stdout",
     "output_type": "stream",
     "text": [
      "['Mahasiswa Teknik Informatika Unila Annisa Tri Hapsari berhasil menorehkan prestasi sebagai Grand Finalis Pemilihan Muli Mekhanai Pringsewu 2024, kegiatan pemilihan', 'Pimpinan dan civitas akademika PSTI Unila mengucapkan selamat kepada mahasiswa yang sudah lolos kompetisi dan berhak mendapatkan beasiswa Bank Indonesia', '(Unila): Kerja keras, doa, dan sikap tekun, serta berani menerima tantangan merupakan faktor-faktor pembuka jalan menuju keberhasilan. Hal tersebut menjadi', 'Pada semester genap tahun akademik 2023/2024, Sebanyak 47 mahasiswa Teknik Informatika Universitas Lampung mengambil langkah berani dengan bergabung dalam program', 'Pelatihan Flutter & Laravel merupakan pelatihan yang bertujuan untuk melatih mahasiswa mengenai pembuatan sebuah aplikasi menggunakan framework Flutter dan Laravel.', '', 'Pada hari ini Kamis, 11 Mei 2023 telah dilaksanakan seminar komprehensif mahasiswi program studi teknik informatika atas nama Fiona Yovita', '(Unila):\\xa0Fakultas Teknik (FT) Universitas Lampung (Unila) menyelenggarakan\\xa0The 8th International Conference on Science, Technology, and Interdisciplinary Research\\xa0(IC-Star), secara\\xa0hiybrid,\\xa0Selasa, 27 September 2022.\\xa0IC-Star', 'Kwinny Intan Filya, mahasiswa S1 Teknik Informatika, didampingi oleh dosen Pembimbing, Dr. Eng. Mardiana, S.T., M.T. dan Kaprodi, Mona Arif']\n"
     ]
    }
   ],
   "source": [
    "headline_columns = []\n",
    "\n",
    "for e in articles:\n",
    "  headline_element = e.find('p')\n",
    "  if headline_element:\n",
    "    headline_columns.append(headline_element.getText())\n",
    "  else :\n",
    "    headline_columns.append('')\n",
    "\n",
    "\n",
    "print(headline_columns)"
   ]
  },
  {
   "cell_type": "markdown",
   "metadata": {},
   "source": [
    "#### Menampilkan hasil data scraping menggunakan pandas"
   ]
  },
  {
   "cell_type": "code",
   "execution_count": 69,
   "metadata": {},
   "outputs": [
    {
     "data": {
      "text/html": [
       "<style type=\"text/css\">\n",
       "</style>\n",
       "<table id=\"T_662d6\">\n",
       "  <thead>\n",
       "    <tr>\n",
       "      <th id=\"T_662d6_level0_col0\" class=\"col_heading level0 col0\" >Title</th>\n",
       "      <th id=\"T_662d6_level0_col1\" class=\"col_heading level0 col1\" >Date</th>\n",
       "      <th id=\"T_662d6_level0_col2\" class=\"col_heading level0 col2\" >Author</th>\n",
       "      <th id=\"T_662d6_level0_col3\" class=\"col_heading level0 col3\" >Comment count</th>\n",
       "      <th id=\"T_662d6_level0_col4\" class=\"col_heading level0 col4\" >Headline</th>\n",
       "    </tr>\n",
       "  </thead>\n",
       "  <tbody>\n",
       "    <tr>\n",
       "      <td id=\"T_662d6_row0_col0\" class=\"data row0 col0\" >Mahasiswa Teknik Informatika Berhasil Menjadi Finalis Muli Mekhanai Pringsewu</td>\n",
       "      <td id=\"T_662d6_row0_col1\" class=\"data row0 col1\" >2024-05-07 13:32:08</td>\n",
       "      <td id=\"T_662d6_row0_col2\" class=\"data row0 col2\" >admin</td>\n",
       "      <td id=\"T_662d6_row0_col3\" class=\"data row0 col3\" >0</td>\n",
       "      <td id=\"T_662d6_row0_col4\" class=\"data row0 col4\" >Mahasiswa Teknik Informatika Unila Annisa Tri Hapsari berhasil menorehkan prestasi sebagai Grand Finalis Pemilihan Muli Mekhanai Pringsewu 2024, kegiatan pemilihan</td>\n",
       "    </tr>\n",
       "    <tr>\n",
       "      <td id=\"T_662d6_row1_col0\" class=\"data row1 col0\" >Mahasiswa Teknik Informatika Unila Berhasil Lolos Seleksi Beasiswa Bank Indonesia periode tahun 2024</td>\n",
       "      <td id=\"T_662d6_row1_col1\" class=\"data row1 col1\" >2024-04-18 06:15:23</td>\n",
       "      <td id=\"T_662d6_row1_col2\" class=\"data row1 col2\" >admin</td>\n",
       "      <td id=\"T_662d6_row1_col3\" class=\"data row1 col3\" >0</td>\n",
       "      <td id=\"T_662d6_row1_col4\" class=\"data row1 col4\" >Pimpinan dan civitas akademika PSTI Unila mengucapkan selamat kepada mahasiswa yang sudah lolos kompetisi dan berhak mendapatkan beasiswa Bank Indonesia</td>\n",
       "    </tr>\n",
       "    <tr>\n",
       "      <td id=\"T_662d6_row2_col0\" class=\"data row2 col0\" >Aldo Wijaya Mahasiswa Teknik Informatika Sabet Lulusan Terbaik I Tingkat Universitas</td>\n",
       "      <td id=\"T_662d6_row2_col1\" class=\"data row2 col1\" >2024-03-11 08:36:29</td>\n",
       "      <td id=\"T_662d6_row2_col2\" class=\"data row2 col2\" >admin</td>\n",
       "      <td id=\"T_662d6_row2_col3\" class=\"data row2 col3\" >0</td>\n",
       "      <td id=\"T_662d6_row2_col4\" class=\"data row2 col4\" >(Unila): Kerja keras, doa, dan sikap tekun, serta berani menerima tantangan merupakan faktor-faktor pembuka jalan menuju keberhasilan. Hal tersebut menjadi</td>\n",
       "    </tr>\n",
       "    <tr>\n",
       "      <td id=\"T_662d6_row3_col0\" class=\"data row3 col0\" >Mahasiswa TI Lolos Seleksi Nasional Program Magang Studi Independen Bersertifikat (MSIB) Kemendikbudristek 2024</td>\n",
       "      <td id=\"T_662d6_row3_col1\" class=\"data row3 col1\" >2024-02-22 21:08:11</td>\n",
       "      <td id=\"T_662d6_row3_col2\" class=\"data row3 col2\" >admin</td>\n",
       "      <td id=\"T_662d6_row3_col3\" class=\"data row3 col3\" >0</td>\n",
       "      <td id=\"T_662d6_row3_col4\" class=\"data row3 col4\" >Pada semester genap tahun akademik 2023/2024, Sebanyak 47 mahasiswa Teknik Informatika Universitas Lampung mengambil langkah berani dengan bergabung dalam program</td>\n",
       "    </tr>\n",
       "    <tr>\n",
       "      <td id=\"T_662d6_row4_col0\" class=\"data row4 col0\" >Pelatihan Flutter & Laravel Program Studi Teknik Informatika Unila</td>\n",
       "      <td id=\"T_662d6_row4_col1\" class=\"data row4 col1\" >2024-02-29 08:18:40</td>\n",
       "      <td id=\"T_662d6_row4_col2\" class=\"data row4 col2\" >admin</td>\n",
       "      <td id=\"T_662d6_row4_col3\" class=\"data row4 col3\" >0</td>\n",
       "      <td id=\"T_662d6_row4_col4\" class=\"data row4 col4\" >Pelatihan Flutter & Laravel merupakan pelatihan yang bertujuan untuk melatih mahasiswa mengenai pembuatan sebuah aplikasi menggunakan framework Flutter dan Laravel.</td>\n",
       "    </tr>\n",
       "    <tr>\n",
       "      <td id=\"T_662d6_row5_col0\" class=\"data row5 col0\" >Arsip Mahasiswa Kompre Ganjil 2023/2024</td>\n",
       "      <td id=\"T_662d6_row5_col1\" class=\"data row5 col1\" >2024-02-22 21:33:48</td>\n",
       "      <td id=\"T_662d6_row5_col2\" class=\"data row5 col2\" >Redaksi Informatika</td>\n",
       "      <td id=\"T_662d6_row5_col3\" class=\"data row5 col3\" >0</td>\n",
       "      <td id=\"T_662d6_row5_col4\" class=\"data row5 col4\" ></td>\n",
       "    </tr>\n",
       "    <tr>\n",
       "      <td id=\"T_662d6_row6_col0\" class=\"data row6 col0\" >Seminar Komprehensif Fiona Yovita Syafri TI 2019</td>\n",
       "      <td id=\"T_662d6_row6_col1\" class=\"data row6 col1\" >2023-05-12 13:23:18</td>\n",
       "      <td id=\"T_662d6_row6_col2\" class=\"data row6 col2\" >Teknik Informatika</td>\n",
       "      <td id=\"T_662d6_row6_col3\" class=\"data row6 col3\" >0</td>\n",
       "      <td id=\"T_662d6_row6_col4\" class=\"data row6 col4\" >Pada hari ini Kamis, 11 Mei 2023 telah dilaksanakan seminar komprehensif mahasiswi program studi teknik informatika atas nama Fiona Yovita</td>\n",
       "    </tr>\n",
       "    <tr>\n",
       "      <td id=\"T_662d6_row7_col0\" class=\"data row7 col0\" >Mahasiswa Teknik Informatika Mengikuti Seminar Internasional The 8th International Conference on Science, Technology, and Interdisciplinary Research (IC-Star)</td>\n",
       "      <td id=\"T_662d6_row7_col1\" class=\"data row7 col1\" >2022-09-28 10:32:09</td>\n",
       "      <td id=\"T_662d6_row7_col2\" class=\"data row7 col2\" >admin</td>\n",
       "      <td id=\"T_662d6_row7_col3\" class=\"data row7 col3\" >0</td>\n",
       "      <td id=\"T_662d6_row7_col4\" class=\"data row7 col4\" >(Unila): Fakultas Teknik (FT) Universitas Lampung (Unila) menyelenggarakan The 8th International Conference on Science, Technology, and Interdisciplinary Research (IC-Star), secara hiybrid, Selasa, 27 September 2022. IC-Star</td>\n",
       "    </tr>\n",
       "    <tr>\n",
       "      <td id=\"T_662d6_row8_col0\" class=\"data row8 col0\" >Mahasiswa S1 Teknik Informatika Menjadi Kandidat Fakultas Teknik Pada Pilmapres Universitas Lampung Tahun 2022</td>\n",
       "      <td id=\"T_662d6_row8_col1\" class=\"data row8 col1\" >2022-06-24 16:27:33</td>\n",
       "      <td id=\"T_662d6_row8_col2\" class=\"data row8 col2\" >admin</td>\n",
       "      <td id=\"T_662d6_row8_col3\" class=\"data row8 col3\" >0</td>\n",
       "      <td id=\"T_662d6_row8_col4\" class=\"data row8 col4\" >Kwinny Intan Filya, mahasiswa S1 Teknik Informatika, didampingi oleh dosen Pembimbing, Dr. Eng. Mardiana, S.T., M.T. dan Kaprodi, Mona Arif</td>\n",
       "    </tr>\n",
       "  </tbody>\n",
       "</table>\n"
      ],
      "text/plain": [
       "<pandas.io.formats.style.Styler at 0x169fd72aa40>"
      ]
     },
     "execution_count": 69,
     "metadata": {},
     "output_type": "execute_result"
    }
   ],
   "source": [
    "table = {'Title': title_columns,\n",
    "         'Date': date_columns,\n",
    "         'Author': author_columns,\n",
    "         'Comment count': comment_columns,\n",
    "         'Headline': headline_columns}\n",
    "df = pd.DataFrame(table)\n",
    "df.style.hide()"
   ]
  },
  {
   "cell_type": "code",
   "execution_count": 71,
   "metadata": {},
   "outputs": [
    {
     "name": "stdout",
     "output_type": "stream",
     "text": [
      "DataFrame saved as result.json\n"
     ]
    }
   ],
   "source": [
    "json_filename = 'result.json'\n",
    "\n",
    "df.to_json(json_filename, orient='records')\n",
    "\n",
    "print(f\"DataFrame saved as {json_filename}\")\n"
   ]
  }
 ],
 "metadata": {
  "kernelspec": {
   "display_name": "Python 3",
   "language": "python",
   "name": "python3"
  },
  "language_info": {
   "codemirror_mode": {
    "name": "ipython",
    "version": 3
   },
   "file_extension": ".py",
   "mimetype": "text/x-python",
   "name": "python",
   "nbconvert_exporter": "python",
   "pygments_lexer": "ipython3",
   "version": "3.10.2"
  }
 },
 "nbformat": 4,
 "nbformat_minor": 2
}
